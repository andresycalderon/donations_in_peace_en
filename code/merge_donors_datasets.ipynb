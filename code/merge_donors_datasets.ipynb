{
 "cells": [
  {
   "cell_type": "markdown",
   "metadata": {},
   "source": [
    "*This Jupyter notebook merges donors datasets and creates a table at the municipality-year of election level with the average number of donors and average donation amount*."
   ]
  },
  {
   "cell_type": "code",
   "execution_count": 1,
   "metadata": {},
   "outputs": [],
   "source": [
    "#Import packages \n",
    "import os\n",
    "import pandas as pd"
   ]
  },
  {
   "cell_type": "code",
   "execution_count": 2,
   "metadata": {},
   "outputs": [],
   "source": [
    "#Change working directory \n",
    "os.chdir('D:/Users/USER/Documents/UR 2021-2/MCPP/Project/donations_in_peace')"
   ]
  },
  {
   "cell_type": "code",
   "execution_count": 3,
   "metadata": {},
   "outputs": [
    {
     "data": {
      "text/html": [
       "<div>\n",
       "<style scoped>\n",
       "    .dataframe tbody tr th:only-of-type {\n",
       "        vertical-align: middle;\n",
       "    }\n",
       "\n",
       "    .dataframe tbody tr th {\n",
       "        vertical-align: top;\n",
       "    }\n",
       "\n",
       "    .dataframe thead th {\n",
       "        text-align: right;\n",
       "    }\n",
       "</style>\n",
       "<table border=\"1\" class=\"dataframe\">\n",
       "  <thead>\n",
       "    <tr style=\"text-align: right;\">\n",
       "      <th></th>\n",
       "      <th>name</th>\n",
       "      <th>amount</th>\n",
       "      <th>candidate</th>\n",
       "      <th>corp</th>\n",
       "      <th>dpto</th>\n",
       "      <th>mpio</th>\n",
       "      <th>party</th>\n",
       "      <th>codmpio</th>\n",
       "      <th>coddpto</th>\n",
       "    </tr>\n",
       "  </thead>\n",
       "  <tbody>\n",
       "    <tr>\n",
       "      <th>0</th>\n",
       "      <td>HORACIO GUARDIA MACHADO</td>\n",
       "      <td>10748000.0</td>\n",
       "      <td>ANIBAL GAVIRIA CORREA</td>\n",
       "      <td>Alcaldía</td>\n",
       "      <td>ANTIOQUIA</td>\n",
       "      <td>MEDELLIN</td>\n",
       "      <td>PARTIDO LIBERAL COLOMBIANO</td>\n",
       "      <td>5001.0</td>\n",
       "      <td>5.0</td>\n",
       "    </tr>\n",
       "    <tr>\n",
       "      <th>1</th>\n",
       "      <td>JOHNNY BAIZ MATUK</td>\n",
       "      <td>15000000.0</td>\n",
       "      <td>ANIBAL GAVIRIA CORREA</td>\n",
       "      <td>Alcaldía</td>\n",
       "      <td>ANTIOQUIA</td>\n",
       "      <td>MEDELLIN</td>\n",
       "      <td>PARTIDO LIBERAL COLOMBIANO</td>\n",
       "      <td>5001.0</td>\n",
       "      <td>5.0</td>\n",
       "    </tr>\n",
       "    <tr>\n",
       "      <th>2</th>\n",
       "      <td>JOSE E MUÑOZ</td>\n",
       "      <td>3000000.0</td>\n",
       "      <td>ANIBAL GAVIRIA CORREA</td>\n",
       "      <td>Alcaldía</td>\n",
       "      <td>ANTIOQUIA</td>\n",
       "      <td>MEDELLIN</td>\n",
       "      <td>PARTIDO LIBERAL COLOMBIANO</td>\n",
       "      <td>5001.0</td>\n",
       "      <td>5.0</td>\n",
       "    </tr>\n",
       "    <tr>\n",
       "      <th>3</th>\n",
       "      <td>RAFAEL LINARES OIRJUELA</td>\n",
       "      <td>23265000.0</td>\n",
       "      <td>ANIBAL GAVIRIA CORREA</td>\n",
       "      <td>Alcaldía</td>\n",
       "      <td>ANTIOQUIA</td>\n",
       "      <td>MEDELLIN</td>\n",
       "      <td>PARTIDO LIBERAL COLOMBIANO</td>\n",
       "      <td>5001.0</td>\n",
       "      <td>5.0</td>\n",
       "    </tr>\n",
       "    <tr>\n",
       "      <th>4</th>\n",
       "      <td>BEATRIZ RESTREPO</td>\n",
       "      <td>1000000.0</td>\n",
       "      <td>ANIBAL GAVIRIA CORREA</td>\n",
       "      <td>Alcaldía</td>\n",
       "      <td>ANTIOQUIA</td>\n",
       "      <td>MEDELLIN</td>\n",
       "      <td>PARTIDO LIBERAL COLOMBIANO</td>\n",
       "      <td>5001.0</td>\n",
       "      <td>5.0</td>\n",
       "    </tr>\n",
       "  </tbody>\n",
       "</table>\n",
       "</div>"
      ],
      "text/plain": [
       "                      name      amount              candidate      corp  \\\n",
       "0  HORACIO GUARDIA MACHADO  10748000.0  ANIBAL GAVIRIA CORREA  Alcaldía   \n",
       "1        JOHNNY BAIZ MATUK  15000000.0  ANIBAL GAVIRIA CORREA  Alcaldía   \n",
       "2             JOSE E MUÑOZ   3000000.0  ANIBAL GAVIRIA CORREA  Alcaldía   \n",
       "3  RAFAEL LINARES OIRJUELA  23265000.0  ANIBAL GAVIRIA CORREA  Alcaldía   \n",
       "4         BEATRIZ RESTREPO   1000000.0  ANIBAL GAVIRIA CORREA  Alcaldía   \n",
       "\n",
       "        dpto      mpio                       party  codmpio  coddpto  \n",
       "0  ANTIOQUIA  MEDELLIN  PARTIDO LIBERAL COLOMBIANO   5001.0      5.0  \n",
       "1  ANTIOQUIA  MEDELLIN  PARTIDO LIBERAL COLOMBIANO   5001.0      5.0  \n",
       "2  ANTIOQUIA  MEDELLIN  PARTIDO LIBERAL COLOMBIANO   5001.0      5.0  \n",
       "3  ANTIOQUIA  MEDELLIN  PARTIDO LIBERAL COLOMBIANO   5001.0      5.0  \n",
       "4  ANTIOQUIA  MEDELLIN  PARTIDO LIBERAL COLOMBIANO   5001.0      5.0  "
      ]
     },
     "execution_count": 3,
     "metadata": {},
     "output_type": "execute_result"
    }
   ],
   "source": [
    "#Load donors datasets and check 5 rows of 2015 to see how the data is structured.\n",
    "donors2011 = pd.read_csv('data/auxiliar/names/donors_2011.csv')\n",
    "donors2015 = pd.read_csv('data/auxiliar/names/donors_2015.csv')\n",
    "donors2019 = pd.read_csv('data/auxiliar/names/donors_2019.csv')\n",
    "donors2011.head()"
   ]
  },
  {
   "cell_type": "code",
   "execution_count": 4,
   "metadata": {},
   "outputs": [
    {
     "name": "stdout",
     "output_type": "stream",
     "text": [
      "4562\n",
      "103347\n"
     ]
    }
   ],
   "source": [
    "#Load candidates names datasets\n",
    "candidates2015 = pd.read_csv('data/auxiliar/allcandidatesnames15.csv')\n",
    "candidates2019 = pd.read_csv('data/auxiliar/allcandidatesnames19.csv')\n",
    "print(len(candidates2015))\n",
    "print(len(candidates2019))"
   ]
  },
  {
   "cell_type": "code",
   "execution_count": 5,
   "metadata": {},
   "outputs": [
    {
     "name": "stdout",
     "output_type": "stream",
     "text": [
      "4562\n",
      "103331\n"
     ]
    }
   ],
   "source": [
    "#There are some repetitions of unique identifiers in the candidates datasets. Keep the first one.\n",
    "candidates2019 = candidates2019.drop_duplicates(subset=['wp_no']) #16 observations dropped. \n",
    "candidates2015 = candidates2015.drop_duplicates(subset=['wp_no']) #347 observations dropped.\n",
    "print(len(candidates2015))\n",
    "print(len(candidates2019))"
   ]
  },
  {
   "cell_type": "code",
   "execution_count": 6,
   "metadata": {
    "scrolled": false
   },
   "outputs": [
    {
     "name": "stdout",
     "output_type": "stream",
     "text": [
      "4562\n",
      "5142\n"
     ]
    }
   ],
   "source": [
    "#Keep only candidates for mayor (alcaldias)\n",
    "candidates2015=candidates2015[candidates2015.corp==\"Alcaldía\"]\n",
    "candidates2019=candidates2019[candidates2019.corp==\"Alcaldía\"]\n",
    "print(len(candidates2015))\n",
    "print(len(candidates2019))"
   ]
  },
  {
   "cell_type": "markdown",
   "metadata": {},
   "source": [
    "**Resultado**:\n",
    "- En 2015 hubo 4,193 candidatos a Alcaldía\n",
    "- En 2019: 5,142"
   ]
  },
  {
   "cell_type": "code",
   "execution_count": 7,
   "metadata": {},
   "outputs": [],
   "source": [
    "#Rename variables 'name' and 'wp_no' in the candidates datasets to 'candidate_name' and 'cand_number'\n",
    "candidates2015=candidates2015.rename(columns={\"name\": \"candidate_name\", \"wp_no\": \"cand_number\"})\n",
    "candidates2019=candidates2019.rename(columns={\"name\": \"candidate_name\", \"wp_no\": \"cand_number\"})"
   ]
  },
  {
   "cell_type": "code",
   "execution_count": 8,
   "metadata": {},
   "outputs": [
    {
     "name": "stdout",
     "output_type": "stream",
     "text": [
      "8007\n",
      "12553\n"
     ]
    }
   ],
   "source": [
    "#Match donors with candidates names by candidate number. Then, get the number of rows in each dataset.\n",
    "#This merge only applies for 2015 and 2019. For 2011, the donors are already matched. \n",
    "donors2015_matched = donors2015.merge(candidates2015, on='cand_number')\n",
    "donors2019_matched = donors2019.merge(candidates2019, on='cand_number')\n",
    "print(len(donors2015_matched))\n",
    "print(len(donors2019_matched))"
   ]
  },
  {
   "cell_type": "code",
   "execution_count": 9,
   "metadata": {},
   "outputs": [],
   "source": [
    "#Rename 'candidate' as 'candidate_name' in 2011\n",
    "donors2011=donors2011.rename(columns={\"candidate\": \"candidate_name\"})"
   ]
  },
  {
   "cell_type": "code",
   "execution_count": 10,
   "metadata": {},
   "outputs": [
    {
     "data": {
      "text/html": [
       "<div>\n",
       "<style scoped>\n",
       "    .dataframe tbody tr th:only-of-type {\n",
       "        vertical-align: middle;\n",
       "    }\n",
       "\n",
       "    .dataframe tbody tr th {\n",
       "        vertical-align: top;\n",
       "    }\n",
       "\n",
       "    .dataframe thead th {\n",
       "        text-align: right;\n",
       "    }\n",
       "</style>\n",
       "<table border=\"1\" class=\"dataframe\">\n",
       "  <thead>\n",
       "    <tr style=\"text-align: right;\">\n",
       "      <th></th>\n",
       "      <th></th>\n",
       "      <th></th>\n",
       "      <th>amount</th>\n",
       "      <th>coddpto</th>\n",
       "    </tr>\n",
       "    <tr>\n",
       "      <th>codmpio</th>\n",
       "      <th>candidate_name</th>\n",
       "      <th>name</th>\n",
       "      <th></th>\n",
       "      <th></th>\n",
       "    </tr>\n",
       "  </thead>\n",
       "  <tbody>\n",
       "    <tr>\n",
       "      <th rowspan=\"5\" valign=\"top\">5001.0</th>\n",
       "      <th rowspan=\"5\" valign=\"top\">ANIBAL GAVIRIA CORREA</th>\n",
       "      <th>3PONINTECH S.A.S</th>\n",
       "      <td>562600.0</td>\n",
       "      <td>5.0</td>\n",
       "    </tr>\n",
       "    <tr>\n",
       "      <th>ALFREDO LOPEZ</th>\n",
       "      <td>9900000.0</td>\n",
       "      <td>5.0</td>\n",
       "    </tr>\n",
       "    <tr>\n",
       "      <th>ALMACENES ÉXITO S.A.</th>\n",
       "      <td>32000000.0</td>\n",
       "      <td>5.0</td>\n",
       "    </tr>\n",
       "    <tr>\n",
       "      <th>ALZATE NOREÑA</th>\n",
       "      <td>3320206.0</td>\n",
       "      <td>5.0</td>\n",
       "    </tr>\n",
       "    <tr>\n",
       "      <th>BEATRIZ RESTREPO</th>\n",
       "      <td>1000000.0</td>\n",
       "      <td>5.0</td>\n",
       "    </tr>\n",
       "  </tbody>\n",
       "</table>\n",
       "</div>"
      ],
      "text/plain": [
       "                                                        amount  coddpto\n",
       "codmpio candidate_name        name                                     \n",
       "5001.0  ANIBAL GAVIRIA CORREA 3PONINTECH S.A.S        562600.0      5.0\n",
       "                              ALFREDO LOPEZ          9900000.0      5.0\n",
       "                              ALMACENES ÉXITO S.A.  32000000.0      5.0\n",
       "                              ALZATE NOREÑA          3320206.0      5.0\n",
       "                              BEATRIZ RESTREPO       1000000.0      5.0"
      ]
     },
     "execution_count": 10,
     "metadata": {},
     "output_type": "execute_result"
    }
   ],
   "source": [
    "#Compute the total amount of donation by municipality-candidate-donor\n",
    "donors2015_matched_by_donors=donors2015_matched.groupby(['dpto','mpio','candidate_name','name']).sum()\n",
    "donors2019_matched_by_donors=donors2019_matched.groupby(['dpto','mpio','candidate_name','name']).sum()\n",
    "donors2011_matched_by_donors=donors2011.groupby(['codmpio','candidate_name','name']).sum()\n",
    "donors2011_matched_by_donors.head(5)"
   ]
  },
  {
   "cell_type": "code",
   "execution_count": 11,
   "metadata": {},
   "outputs": [],
   "source": [
    "#Compute the number of donors and total amount of donation by municipality-candidate\n",
    "donors2011_matched_by_cand=donors2011_matched_by_donors.groupby(['codmpio','candidate_name']).agg({'amount':'sum','coddpto':'count'})\n",
    "donors2015_matched_by_cand=donors2015_matched_by_donors.groupby(['dpto','mpio','candidate_name']).agg({'amount':'sum','cand_number':'count'})\n",
    "donors2019_matched_by_cand=donors2019_matched_by_donors.groupby(['dpto','mpio','candidate_name']).agg({'amount':'sum','cand_number':'count'})"
   ]
  },
  {
   "cell_type": "code",
   "execution_count": 12,
   "metadata": {},
   "outputs": [],
   "source": [
    "#Rename coddpto and cand_number as 'no_of_donors'\n",
    "donors2011_matched_by_cand=donors2011_matched_by_cand.rename(columns={\"coddpto\": \"no_of_donors\"})\n",
    "donors2015_matched_by_cand=donors2015_matched_by_cand.rename(columns={\"cand_number\": \"no_of_donors\"})\n",
    "donors2019_matched_by_cand=donors2019_matched_by_cand.rename(columns={\"cand_number\": \"no_of_donors\"})"
   ]
  },
  {
   "cell_type": "code",
   "execution_count": 13,
   "metadata": {},
   "outputs": [
    {
     "data": {
      "text/html": [
       "<div>\n",
       "<style scoped>\n",
       "    .dataframe tbody tr th:only-of-type {\n",
       "        vertical-align: middle;\n",
       "    }\n",
       "\n",
       "    .dataframe tbody tr th {\n",
       "        vertical-align: top;\n",
       "    }\n",
       "\n",
       "    .dataframe thead tr th {\n",
       "        text-align: left;\n",
       "    }\n",
       "\n",
       "    .dataframe thead tr:last-of-type th {\n",
       "        text-align: right;\n",
       "    }\n",
       "</style>\n",
       "<table border=\"1\" class=\"dataframe\">\n",
       "  <thead>\n",
       "    <tr>\n",
       "      <th></th>\n",
       "      <th></th>\n",
       "      <th colspan=\"2\" halign=\"left\">amount</th>\n",
       "      <th colspan=\"2\" halign=\"left\">no_of_donors</th>\n",
       "    </tr>\n",
       "    <tr>\n",
       "      <th></th>\n",
       "      <th></th>\n",
       "      <th>sum</th>\n",
       "      <th>mean</th>\n",
       "      <th>sum</th>\n",
       "      <th>mean</th>\n",
       "    </tr>\n",
       "    <tr>\n",
       "      <th>dpto</th>\n",
       "      <th>mpio</th>\n",
       "      <th></th>\n",
       "      <th></th>\n",
       "      <th></th>\n",
       "      <th></th>\n",
       "    </tr>\n",
       "  </thead>\n",
       "  <tbody>\n",
       "    <tr>\n",
       "      <th rowspan=\"2\" valign=\"top\">AMAZONAS</th>\n",
       "      <th>LETICIA</th>\n",
       "      <td>13000000.0</td>\n",
       "      <td>1.300000e+07</td>\n",
       "      <td>2</td>\n",
       "      <td>2.0</td>\n",
       "    </tr>\n",
       "    <tr>\n",
       "      <th>PUERTO NARIÑO</th>\n",
       "      <td>3050000.0</td>\n",
       "      <td>1.525000e+06</td>\n",
       "      <td>2</td>\n",
       "      <td>1.0</td>\n",
       "    </tr>\n",
       "    <tr>\n",
       "      <th rowspan=\"3\" valign=\"top\">ANTIOQUIA</th>\n",
       "      <th>ABEJORRAL</th>\n",
       "      <td>59500000.0</td>\n",
       "      <td>1.983333e+07</td>\n",
       "      <td>9</td>\n",
       "      <td>3.0</td>\n",
       "    </tr>\n",
       "    <tr>\n",
       "      <th>AMAGA</th>\n",
       "      <td>15000000.0</td>\n",
       "      <td>1.500000e+07</td>\n",
       "      <td>3</td>\n",
       "      <td>3.0</td>\n",
       "    </tr>\n",
       "    <tr>\n",
       "      <th>AMALFI</th>\n",
       "      <td>65904879.0</td>\n",
       "      <td>3.295244e+07</td>\n",
       "      <td>17</td>\n",
       "      <td>8.5</td>\n",
       "    </tr>\n",
       "  </tbody>\n",
       "</table>\n",
       "</div>"
      ],
      "text/plain": [
       "                             amount               no_of_donors     \n",
       "                                sum          mean          sum mean\n",
       "dpto      mpio                                                     \n",
       "AMAZONAS  LETICIA        13000000.0  1.300000e+07            2  2.0\n",
       "          PUERTO NARIÑO   3050000.0  1.525000e+06            2  1.0\n",
       "ANTIOQUIA ABEJORRAL      59500000.0  1.983333e+07            9  3.0\n",
       "          AMAGA          15000000.0  1.500000e+07            3  3.0\n",
       "          AMALFI         65904879.0  3.295244e+07           17  8.5"
      ]
     },
     "execution_count": 13,
     "metadata": {},
     "output_type": "execute_result"
    }
   ],
   "source": [
    "#Compute the average and total number of donors, as well as amount, by municipality.\n",
    "mpio_stats_2011=donors2011_matched_by_cand.groupby(['codmpio']).agg({'amount':['sum', 'mean'],'no_of_donors':['sum', 'mean']})\n",
    "mpio_stats_2015=donors2015_matched_by_cand.groupby(['dpto','mpio']).agg({'amount':['sum', 'mean'],'no_of_donors':['sum', 'mean']})\n",
    "mpio_stats_2019=donors2019_matched_by_cand.groupby(['dpto','mpio']).agg({'amount':['sum', 'mean'],'no_of_donors':['sum', 'mean']})\n",
    "#See the final dataset\n",
    "mpio_stats_2015.head()"
   ]
  },
  {
   "cell_type": "code",
   "execution_count": 14,
   "metadata": {},
   "outputs": [],
   "source": [
    "#Export final dataset in CSV format\n",
    "mpio_stats_2011.to_csv('data/clean/mpio_stats_2011.csv')\n",
    "mpio_stats_2015.to_csv('data/clean/mpio_stats_2015.csv')\n",
    "mpio_stats_2019.to_csv('data/clean/mpio_stats_2019.csv')"
   ]
  }
 ],
 "metadata": {
  "kernelspec": {
   "display_name": "Python 3",
   "language": "python",
   "name": "python3"
  },
  "language_info": {
   "codemirror_mode": {
    "name": "ipython",
    "version": 3
   },
   "file_extension": ".py",
   "mimetype": "text/x-python",
   "name": "python",
   "nbconvert_exporter": "python",
   "pygments_lexer": "ipython3",
   "version": "3.7.6"
  }
 },
 "nbformat": 4,
 "nbformat_minor": 4
}
